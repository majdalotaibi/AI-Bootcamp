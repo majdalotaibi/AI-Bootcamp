{
 "cells": [
  {
   "cell_type": "markdown",
   "metadata": {},
   "source": [
    "# Machine Learning Model Storage in MongoDB\n",
    "\n",
    "This tutorial will guide you through the steps to save and load a machine learning model's weights in a MongoDB database using Python. We will use the Iris dataset and a Support Vector Machine (SVM) classifier for this example.\n",
    "\n",
    "## Prerequisites\n",
    "\n",
    "Make sure you have the following libraries installed:\n",
    "- `pymongo`\n",
    "- `scikit-learn`\n",
    "- `python-dotenv`\n",
    "\n",
    "You can install them using pip:\n",
    "\n",
    "```bash\n",
    "pip install pymongo scikit-learn python-dotenv\n",
    "```"
   ]
  },
  {
   "cell_type": "markdown",
   "metadata": {},
   "source": [
    "## Import libraries"
   ]
  },
  {
   "cell_type": "code",
   "execution_count": null,
   "metadata": {},
   "outputs": [],
   "source": [
    "import os\n",
    "import pickle\n",
    "from pymongo import MongoClient\n",
    "from dotenv import load_dotenv\n",
    "import pandas as pd\n",
    "from sklearn import datasets\n",
    "from sklearn.model_selection import train_test_split\n",
    "from sklearn.preprocessing import StandardScaler\n",
    "from sklearn.svm import SVC\n",
    "from sklearn.metrics import accuracy_score, classification_report, confusion_matrix"
   ]
  },
  {
   "cell_type": "markdown",
   "metadata": {},
   "source": [
    "# Upload dataset to MongoDB"
   ]
  },
  {
   "cell_type": "markdown",
   "metadata": {},
   "source": [
    "## Step 1: Load the Iris dataset"
   ]
  },
  {
   "cell_type": "code",
   "execution_count": 4,
   "metadata": {},
   "outputs": [],
   "source": [
    "iris = datasets.load_iris()\n",
    "df = pd.DataFrame(data=iris.data, columns=iris.feature_names)\n",
    "df['target'] = iris.target"
   ]
  },
  {
   "cell_type": "markdown",
   "metadata": {},
   "source": [
    "## Step 2: Connect to MongoDB"
   ]
  },
  {
   "cell_type": "code",
   "execution_count": 5,
   "metadata": {},
   "outputs": [],
   "source": [
    "MONGO_CONNECTION_STRING = \"WRITE_MONGO_CONNECTION_STRING_HERE\"\n",
    "\n",
    "client = MongoClient(MONGO_CONNECTION_STRING)\n",
    "db = client['iris_database']\n",
    "collection = db['iris_collection']"
   ]
  },
  {
   "cell_type": "markdown",
   "metadata": {},
   "source": [
    "## Step 3: Convert DataFrame to a list of dictionaries"
   ]
  },
  {
   "cell_type": "code",
   "execution_count": 6,
   "metadata": {},
   "outputs": [],
   "source": [
    "data_dict = df.to_dict(\"records\")"
   ]
  },
  {
   "cell_type": "markdown",
   "metadata": {},
   "source": [
    "## Step 4: Insert data into MongoDB collection"
   ]
  },
  {
   "cell_type": "code",
   "execution_count": 7,
   "metadata": {},
   "outputs": [
    {
     "data": {
      "text/plain": [
       "InsertManyResult([ObjectId('66ae80e98ec966914050d660'), ObjectId('66ae80e98ec966914050d661'), ObjectId('66ae80e98ec966914050d662'), ObjectId('66ae80e98ec966914050d663'), ObjectId('66ae80e98ec966914050d664'), ObjectId('66ae80e98ec966914050d665'), ObjectId('66ae80e98ec966914050d666'), ObjectId('66ae80e98ec966914050d667'), ObjectId('66ae80e98ec966914050d668'), ObjectId('66ae80e98ec966914050d669'), ObjectId('66ae80e98ec966914050d66a'), ObjectId('66ae80e98ec966914050d66b'), ObjectId('66ae80e98ec966914050d66c'), ObjectId('66ae80e98ec966914050d66d'), ObjectId('66ae80e98ec966914050d66e'), ObjectId('66ae80e98ec966914050d66f'), ObjectId('66ae80e98ec966914050d670'), ObjectId('66ae80e98ec966914050d671'), ObjectId('66ae80e98ec966914050d672'), ObjectId('66ae80e98ec966914050d673'), ObjectId('66ae80e98ec966914050d674'), ObjectId('66ae80e98ec966914050d675'), ObjectId('66ae80e98ec966914050d676'), ObjectId('66ae80e98ec966914050d677'), ObjectId('66ae80e98ec966914050d678'), ObjectId('66ae80e98ec966914050d679'), ObjectId('66ae80e98ec966914050d67a'), ObjectId('66ae80e98ec966914050d67b'), ObjectId('66ae80e98ec966914050d67c'), ObjectId('66ae80e98ec966914050d67d'), ObjectId('66ae80e98ec966914050d67e'), ObjectId('66ae80e98ec966914050d67f'), ObjectId('66ae80e98ec966914050d680'), ObjectId('66ae80e98ec966914050d681'), ObjectId('66ae80e98ec966914050d682'), ObjectId('66ae80e98ec966914050d683'), ObjectId('66ae80e98ec966914050d684'), ObjectId('66ae80e98ec966914050d685'), ObjectId('66ae80e98ec966914050d686'), ObjectId('66ae80e98ec966914050d687'), ObjectId('66ae80e98ec966914050d688'), ObjectId('66ae80e98ec966914050d689'), ObjectId('66ae80e98ec966914050d68a'), ObjectId('66ae80e98ec966914050d68b'), ObjectId('66ae80e98ec966914050d68c'), ObjectId('66ae80e98ec966914050d68d'), ObjectId('66ae80e98ec966914050d68e'), ObjectId('66ae80e98ec966914050d68f'), ObjectId('66ae80e98ec966914050d690'), ObjectId('66ae80e98ec966914050d691'), ObjectId('66ae80e98ec966914050d692'), ObjectId('66ae80e98ec966914050d693'), ObjectId('66ae80e98ec966914050d694'), ObjectId('66ae80e98ec966914050d695'), ObjectId('66ae80e98ec966914050d696'), ObjectId('66ae80e98ec966914050d697'), ObjectId('66ae80e98ec966914050d698'), ObjectId('66ae80e98ec966914050d699'), ObjectId('66ae80e98ec966914050d69a'), ObjectId('66ae80e98ec966914050d69b'), ObjectId('66ae80e98ec966914050d69c'), ObjectId('66ae80e98ec966914050d69d'), ObjectId('66ae80e98ec966914050d69e'), ObjectId('66ae80e98ec966914050d69f'), ObjectId('66ae80e98ec966914050d6a0'), ObjectId('66ae80e98ec966914050d6a1'), ObjectId('66ae80e98ec966914050d6a2'), ObjectId('66ae80e98ec966914050d6a3'), ObjectId('66ae80e98ec966914050d6a4'), ObjectId('66ae80e98ec966914050d6a5'), ObjectId('66ae80e98ec966914050d6a6'), ObjectId('66ae80e98ec966914050d6a7'), ObjectId('66ae80e98ec966914050d6a8'), ObjectId('66ae80e98ec966914050d6a9'), ObjectId('66ae80e98ec966914050d6aa'), ObjectId('66ae80e98ec966914050d6ab'), ObjectId('66ae80e98ec966914050d6ac'), ObjectId('66ae80e98ec966914050d6ad'), ObjectId('66ae80e98ec966914050d6ae'), ObjectId('66ae80e98ec966914050d6af'), ObjectId('66ae80e98ec966914050d6b0'), ObjectId('66ae80e98ec966914050d6b1'), ObjectId('66ae80e98ec966914050d6b2'), ObjectId('66ae80e98ec966914050d6b3'), ObjectId('66ae80e98ec966914050d6b4'), ObjectId('66ae80e98ec966914050d6b5'), ObjectId('66ae80e98ec966914050d6b6'), ObjectId('66ae80e98ec966914050d6b7'), ObjectId('66ae80e98ec966914050d6b8'), ObjectId('66ae80e98ec966914050d6b9'), ObjectId('66ae80e98ec966914050d6ba'), ObjectId('66ae80e98ec966914050d6bb'), ObjectId('66ae80e98ec966914050d6bc'), ObjectId('66ae80e98ec966914050d6bd'), ObjectId('66ae80e98ec966914050d6be'), ObjectId('66ae80e98ec966914050d6bf'), ObjectId('66ae80e98ec966914050d6c0'), ObjectId('66ae80e98ec966914050d6c1'), ObjectId('66ae80e98ec966914050d6c2'), ObjectId('66ae80e98ec966914050d6c3'), ObjectId('66ae80e98ec966914050d6c4'), ObjectId('66ae80e98ec966914050d6c5'), ObjectId('66ae80e98ec966914050d6c6'), ObjectId('66ae80e98ec966914050d6c7'), ObjectId('66ae80e98ec966914050d6c8'), ObjectId('66ae80e98ec966914050d6c9'), ObjectId('66ae80e98ec966914050d6ca'), ObjectId('66ae80e98ec966914050d6cb'), ObjectId('66ae80e98ec966914050d6cc'), ObjectId('66ae80e98ec966914050d6cd'), ObjectId('66ae80e98ec966914050d6ce'), ObjectId('66ae80e98ec966914050d6cf'), ObjectId('66ae80e98ec966914050d6d0'), ObjectId('66ae80e98ec966914050d6d1'), ObjectId('66ae80e98ec966914050d6d2'), ObjectId('66ae80e98ec966914050d6d3'), ObjectId('66ae80e98ec966914050d6d4'), ObjectId('66ae80e98ec966914050d6d5'), ObjectId('66ae80e98ec966914050d6d6'), ObjectId('66ae80e98ec966914050d6d7'), ObjectId('66ae80e98ec966914050d6d8'), ObjectId('66ae80e98ec966914050d6d9'), ObjectId('66ae80e98ec966914050d6da'), ObjectId('66ae80e98ec966914050d6db'), ObjectId('66ae80e98ec966914050d6dc'), ObjectId('66ae80e98ec966914050d6dd'), ObjectId('66ae80e98ec966914050d6de'), ObjectId('66ae80e98ec966914050d6df'), ObjectId('66ae80e98ec966914050d6e0'), ObjectId('66ae80e98ec966914050d6e1'), ObjectId('66ae80e98ec966914050d6e2'), ObjectId('66ae80e98ec966914050d6e3'), ObjectId('66ae80e98ec966914050d6e4'), ObjectId('66ae80e98ec966914050d6e5'), ObjectId('66ae80e98ec966914050d6e6'), ObjectId('66ae80e98ec966914050d6e7'), ObjectId('66ae80e98ec966914050d6e8'), ObjectId('66ae80e98ec966914050d6e9'), ObjectId('66ae80e98ec966914050d6ea'), ObjectId('66ae80e98ec966914050d6eb'), ObjectId('66ae80e98ec966914050d6ec'), ObjectId('66ae80e98ec966914050d6ed'), ObjectId('66ae80e98ec966914050d6ee'), ObjectId('66ae80e98ec966914050d6ef'), ObjectId('66ae80e98ec966914050d6f0'), ObjectId('66ae80e98ec966914050d6f1'), ObjectId('66ae80e98ec966914050d6f2'), ObjectId('66ae80e98ec966914050d6f3'), ObjectId('66ae80e98ec966914050d6f4'), ObjectId('66ae80e98ec966914050d6f5')], acknowledged=True)"
      ]
     },
     "execution_count": 7,
     "metadata": {},
     "output_type": "execute_result"
    }
   ],
   "source": [
    "collection.insert_many(data_dict)"
   ]
  },
  {
   "cell_type": "markdown",
   "metadata": {},
   "source": [
    "## Step 5: Check the number of documents inserted"
   ]
  },
  {
   "cell_type": "code",
   "execution_count": 8,
   "metadata": {},
   "outputs": [
    {
     "name": "stdout",
     "output_type": "stream",
     "text": [
      "The number of documents in the collection is: 150\n"
     ]
    }
   ],
   "source": [
    "document_count = collection.count_documents({})\n",
    "\n",
    "print(f'The number of documents in the collection is: {document_count}')"
   ]
  },
  {
   "cell_type": "markdown",
   "metadata": {},
   "source": [
    "# Retrieve the Iris dataset from the database, and create a classifier using the retrieved data"
   ]
  },
  {
   "cell_type": "markdown",
   "metadata": {},
   "source": [
    "## Step 1: Connect to MongoDB and retrieve the data"
   ]
  },
  {
   "cell_type": "code",
   "execution_count": 10,
   "metadata": {},
   "outputs": [],
   "source": [
    "# MONGO_CONNECTION_STRING = \"WRITE_MONGO_CONNECTION_STRING_HERE\"\n",
    "\n",
    "client = MongoClient(MONGO_CONNECTION_STRING)\n",
    "db = client['iris_database']  # Access the 'iris_database'\n",
    "collection = db['iris_collection']  # Access the 'iris_collection'\n",
    "\n",
    "# Retrieve the data from the collection\n",
    "data = list(collection.find({}))\n",
    "df = pd.DataFrame(data)\n",
    "\n",
    "# Drop the MongoDB specific fields\n",
    "df.drop(columns=['_id'], inplace=True)"
   ]
  },
  {
   "cell_type": "markdown",
   "metadata": {},
   "source": [
    "## Step 2: Preprocess the data"
   ]
  },
  {
   "cell_type": "code",
   "execution_count": 11,
   "metadata": {},
   "outputs": [],
   "source": [
    "X = df.drop(columns=['target']).values\n",
    "y = df['target'].values\n",
    "\n",
    "scaler = StandardScaler()\n",
    "X = scaler.fit_transform(X)"
   ]
  },
  {
   "cell_type": "markdown",
   "metadata": {},
   "source": [
    "## Step 3: Split the data into training and testing sets"
   ]
  },
  {
   "cell_type": "code",
   "execution_count": 12,
   "metadata": {},
   "outputs": [],
   "source": [
    "X_train, X_test, y_train, y_test = train_test_split(X, y, test_size=0.2, random_state=42)"
   ]
  },
  {
   "cell_type": "markdown",
   "metadata": {},
   "source": [
    "## Step 4: Train a Support Vector Machine (SVM) classifier"
   ]
  },
  {
   "cell_type": "code",
   "execution_count": 13,
   "metadata": {},
   "outputs": [
    {
     "data": {
      "text/html": [
       "<style>#sk-container-id-1 {color: black;background-color: white;}#sk-container-id-1 pre{padding: 0;}#sk-container-id-1 div.sk-toggleable {background-color: white;}#sk-container-id-1 label.sk-toggleable__label {cursor: pointer;display: block;width: 100%;margin-bottom: 0;padding: 0.3em;box-sizing: border-box;text-align: center;}#sk-container-id-1 label.sk-toggleable__label-arrow:before {content: \"▸\";float: left;margin-right: 0.25em;color: #696969;}#sk-container-id-1 label.sk-toggleable__label-arrow:hover:before {color: black;}#sk-container-id-1 div.sk-estimator:hover label.sk-toggleable__label-arrow:before {color: black;}#sk-container-id-1 div.sk-toggleable__content {max-height: 0;max-width: 0;overflow: hidden;text-align: left;background-color: #f0f8ff;}#sk-container-id-1 div.sk-toggleable__content pre {margin: 0.2em;color: black;border-radius: 0.25em;background-color: #f0f8ff;}#sk-container-id-1 input.sk-toggleable__control:checked~div.sk-toggleable__content {max-height: 200px;max-width: 100%;overflow: auto;}#sk-container-id-1 input.sk-toggleable__control:checked~label.sk-toggleable__label-arrow:before {content: \"▾\";}#sk-container-id-1 div.sk-estimator input.sk-toggleable__control:checked~label.sk-toggleable__label {background-color: #d4ebff;}#sk-container-id-1 div.sk-label input.sk-toggleable__control:checked~label.sk-toggleable__label {background-color: #d4ebff;}#sk-container-id-1 input.sk-hidden--visually {border: 0;clip: rect(1px 1px 1px 1px);clip: rect(1px, 1px, 1px, 1px);height: 1px;margin: -1px;overflow: hidden;padding: 0;position: absolute;width: 1px;}#sk-container-id-1 div.sk-estimator {font-family: monospace;background-color: #f0f8ff;border: 1px dotted black;border-radius: 0.25em;box-sizing: border-box;margin-bottom: 0.5em;}#sk-container-id-1 div.sk-estimator:hover {background-color: #d4ebff;}#sk-container-id-1 div.sk-parallel-item::after {content: \"\";width: 100%;border-bottom: 1px solid gray;flex-grow: 1;}#sk-container-id-1 div.sk-label:hover label.sk-toggleable__label {background-color: #d4ebff;}#sk-container-id-1 div.sk-serial::before {content: \"\";position: absolute;border-left: 1px solid gray;box-sizing: border-box;top: 0;bottom: 0;left: 50%;z-index: 0;}#sk-container-id-1 div.sk-serial {display: flex;flex-direction: column;align-items: center;background-color: white;padding-right: 0.2em;padding-left: 0.2em;position: relative;}#sk-container-id-1 div.sk-item {position: relative;z-index: 1;}#sk-container-id-1 div.sk-parallel {display: flex;align-items: stretch;justify-content: center;background-color: white;position: relative;}#sk-container-id-1 div.sk-item::before, #sk-container-id-1 div.sk-parallel-item::before {content: \"\";position: absolute;border-left: 1px solid gray;box-sizing: border-box;top: 0;bottom: 0;left: 50%;z-index: -1;}#sk-container-id-1 div.sk-parallel-item {display: flex;flex-direction: column;z-index: 1;position: relative;background-color: white;}#sk-container-id-1 div.sk-parallel-item:first-child::after {align-self: flex-end;width: 50%;}#sk-container-id-1 div.sk-parallel-item:last-child::after {align-self: flex-start;width: 50%;}#sk-container-id-1 div.sk-parallel-item:only-child::after {width: 0;}#sk-container-id-1 div.sk-dashed-wrapped {border: 1px dashed gray;margin: 0 0.4em 0.5em 0.4em;box-sizing: border-box;padding-bottom: 0.4em;background-color: white;}#sk-container-id-1 div.sk-label label {font-family: monospace;font-weight: bold;display: inline-block;line-height: 1.2em;}#sk-container-id-1 div.sk-label-container {text-align: center;}#sk-container-id-1 div.sk-container {/* jupyter's `normalize.less` sets `[hidden] { display: none; }` but bootstrap.min.css set `[hidden] { display: none !important; }` so we also need the `!important` here to be able to override the default hidden behavior on the sphinx rendered scikit-learn.org. See: https://github.com/scikit-learn/scikit-learn/issues/21755 */display: inline-block !important;position: relative;}#sk-container-id-1 div.sk-text-repr-fallback {display: none;}</style><div id=\"sk-container-id-1\" class=\"sk-top-container\"><div class=\"sk-text-repr-fallback\"><pre>SVC(kernel=&#x27;linear&#x27;, random_state=42)</pre><b>In a Jupyter environment, please rerun this cell to show the HTML representation or trust the notebook. <br />On GitHub, the HTML representation is unable to render, please try loading this page with nbviewer.org.</b></div><div class=\"sk-container\" hidden><div class=\"sk-item\"><div class=\"sk-estimator sk-toggleable\"><input class=\"sk-toggleable__control sk-hidden--visually\" id=\"sk-estimator-id-1\" type=\"checkbox\" checked><label for=\"sk-estimator-id-1\" class=\"sk-toggleable__label sk-toggleable__label-arrow\">SVC</label><div class=\"sk-toggleable__content\"><pre>SVC(kernel=&#x27;linear&#x27;, random_state=42)</pre></div></div></div></div></div>"
      ],
      "text/plain": [
       "SVC(kernel='linear', random_state=42)"
      ]
     },
     "execution_count": 13,
     "metadata": {},
     "output_type": "execute_result"
    }
   ],
   "source": [
    "model = SVC(kernel='linear', random_state=42)\n",
    "model.fit(X_train, y_train)"
   ]
  },
  {
   "cell_type": "markdown",
   "metadata": {},
   "source": [
    "## Step 5: Evaluate the model"
   ]
  },
  {
   "cell_type": "code",
   "execution_count": 14,
   "metadata": {},
   "outputs": [
    {
     "name": "stdout",
     "output_type": "stream",
     "text": [
      "Accuracy: 96.67%\n",
      "Classification Report:\n",
      "              precision    recall  f1-score   support\n",
      "\n",
      "           0       1.00      1.00      1.00        10\n",
      "           1       1.00      0.89      0.94         9\n",
      "           2       0.92      1.00      0.96        11\n",
      "\n",
      "    accuracy                           0.97        30\n",
      "   macro avg       0.97      0.96      0.97        30\n",
      "weighted avg       0.97      0.97      0.97        30\n",
      "\n",
      "Confusion Matrix:\n",
      "[[10  0  0]\n",
      " [ 0  8  1]\n",
      " [ 0  0 11]]\n"
     ]
    }
   ],
   "source": [
    "y_pred = model.predict(X_test)\n",
    "accuracy = accuracy_score(y_test, y_pred)\n",
    "\n",
    "print(f'Accuracy: {accuracy * 100:.2f}%')\n",
    "print('Classification Report:')\n",
    "print(classification_report(y_test, y_pred))\n",
    "print('Confusion Matrix:')\n",
    "print(confusion_matrix(y_test, y_pred))"
   ]
  },
  {
   "cell_type": "markdown",
   "metadata": {},
   "source": [
    "# Store the model's weights in a MongoDB database"
   ]
  },
  {
   "cell_type": "markdown",
   "metadata": {},
   "source": [
    "## Continuing from the previous code, we just need to change the database and the collection."
   ]
  },
  {
   "cell_type": "code",
   "execution_count": 16,
   "metadata": {},
   "outputs": [
    {
     "name": "stdout",
     "output_type": "stream",
     "text": [
      "Model successfully saved to MongoDB\n"
     ]
    }
   ],
   "source": [
    "# MONGO_CONNECTION_STRING = \"WRITE_MONGO_CONNECTION_STRING_HERE\"\n",
    "\n",
    "client = MongoClient(MONGO_CONNECTION_STRING)\n",
    "db = client['iris_database']  # Access the 'iris_database'\n",
    "collection = db['models']  # Create a collection to store models\n",
    "\n",
    "# Serialize the model\n",
    "model_bytes = pickle.dumps(model)\n",
    "\n",
    "# Store the model in the collection\n",
    "model_document = {\n",
    "    'model_name': 'svm_iris',\n",
    "    'model_data': model_bytes\n",
    "}\n",
    "collection.insert_one(model_document)\n",
    "\n",
    "print(\"Model successfully saved to MongoDB\")"
   ]
  },
  {
   "cell_type": "markdown",
   "metadata": {},
   "source": [
    "# Loading the Model Weights"
   ]
  },
  {
   "cell_type": "markdown",
   "metadata": {},
   "source": [
    "## Step 1: Connect to MongoDB and retrieve the model"
   ]
  },
  {
   "cell_type": "code",
   "execution_count": 17,
   "metadata": {},
   "outputs": [],
   "source": [
    "# MONGO_CONNECTION_STRING = \"WRITE_MONGO_CONNECTION_STRING_HERE\"\n",
    "\n",
    "client = MongoClient(MONGO_CONNECTION_STRING)\n",
    "db = client['iris_database']  # Access the 'iris_database'\n",
    "collection = db['models']  # Access the 'models' collection\n",
    "\n",
    "# Retrieve the model from the collection\n",
    "model_document = collection.find_one({'model_name': 'svm_iris'})\n",
    "model_bytes = model_document['model_data']"
   ]
  },
  {
   "cell_type": "markdown",
   "metadata": {},
   "source": [
    "## Step 2: Deserialize the model"
   ]
  },
  {
   "cell_type": "code",
   "execution_count": 18,
   "metadata": {},
   "outputs": [],
   "source": [
    "model = pickle.loads(model_bytes)"
   ]
  },
  {
   "cell_type": "markdown",
   "metadata": {},
   "source": [
    "## Step 3: Load the Iris dataset and preprocess it"
   ]
  },
  {
   "cell_type": "code",
   "execution_count": 19,
   "metadata": {},
   "outputs": [],
   "source": [
    "iris = datasets.load_iris()\n",
    "X = iris.data\n",
    "y = iris.target\n",
    "\n",
    "scaler = StandardScaler()\n",
    "X = scaler.fit_transform(X)\n",
    "\n",
    "X_train, X_test, y_train, y_test = train_test_split(X, y, test_size=0.2, random_state=42)"
   ]
  },
  {
   "cell_type": "markdown",
   "metadata": {},
   "source": [
    "## Step 4: Evaluate the loaded model"
   ]
  },
  {
   "cell_type": "code",
   "execution_count": 20,
   "metadata": {},
   "outputs": [
    {
     "name": "stdout",
     "output_type": "stream",
     "text": [
      "Accuracy: 96.67%\n",
      "Classification Report:\n",
      "              precision    recall  f1-score   support\n",
      "\n",
      "           0       1.00      1.00      1.00        10\n",
      "           1       1.00      0.89      0.94         9\n",
      "           2       0.92      1.00      0.96        11\n",
      "\n",
      "    accuracy                           0.97        30\n",
      "   macro avg       0.97      0.96      0.97        30\n",
      "weighted avg       0.97      0.97      0.97        30\n",
      "\n",
      "Confusion Matrix:\n",
      "[[10  0  0]\n",
      " [ 0  8  1]\n",
      " [ 0  0 11]]\n"
     ]
    }
   ],
   "source": [
    "y_pred = model.predict(X_test)\n",
    "accuracy = accuracy_score(y_test, y_pred)\n",
    "\n",
    "print(f'Accuracy: {accuracy * 100:.2f}%')\n",
    "print('Classification Report:')\n",
    "print(classification_report(y_test, y_pred))\n",
    "print('Confusion Matrix:')\n",
    "print(confusion_matrix(y_test, y_pred))"
   ]
  }
 ],
 "metadata": {
  "kernelspec": {
   "display_name": "base",
   "language": "python",
   "name": "python3"
  },
  "language_info": {
   "codemirror_mode": {
    "name": "ipython",
    "version": 3
   },
   "file_extension": ".py",
   "mimetype": "text/x-python",
   "name": "python",
   "nbconvert_exporter": "python",
   "pygments_lexer": "ipython3",
   "version": "3.12.4"
  }
 },
 "nbformat": 4,
 "nbformat_minor": 2
}
