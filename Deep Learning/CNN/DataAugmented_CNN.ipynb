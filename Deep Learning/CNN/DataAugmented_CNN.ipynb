{
  "cells": [
    {
      "cell_type": "markdown",
      "metadata": {
        "id": "-2_OohltEMFm"
      },
      "source": [
        "---\n",
        "---\n",
        "# Convolutional Neural Network\n",
        "---\n",
        "---"
      ]
    },
    {
      "cell_type": "markdown",
      "metadata": {
        "id": "XQPsWNhYF50E"
      },
      "source": [
        "## Libraries Imports"
      ]
    },
    {
      "cell_type": "code",
      "execution_count": null,
      "metadata": {
        "colab": {
          "base_uri": "https://localhost:8080/"
        },
        "id": "wBMDu6tDJzOX",
        "outputId": "47185d04-88bb-445a-f3b2-58b7f97b149e"
      },
      "outputs": [
        {
          "output_type": "stream",
          "name": "stdout",
          "text": [
            "Collecting keras-tuner\n",
            "  Downloading keras_tuner-1.4.7-py3-none-any.whl.metadata (5.4 kB)\n",
            "Requirement already satisfied: keras in /usr/local/lib/python3.10/dist-packages (from keras-tuner) (3.4.1)\n",
            "Requirement already satisfied: packaging in /usr/local/lib/python3.10/dist-packages (from keras-tuner) (24.1)\n",
            "Requirement already satisfied: requests in /usr/local/lib/python3.10/dist-packages (from keras-tuner) (2.32.3)\n",
            "Collecting kt-legacy (from keras-tuner)\n",
            "  Downloading kt_legacy-1.0.5-py3-none-any.whl.metadata (221 bytes)\n",
            "Requirement already satisfied: absl-py in /usr/local/lib/python3.10/dist-packages (from keras->keras-tuner) (1.4.0)\n",
            "Requirement already satisfied: numpy in /usr/local/lib/python3.10/dist-packages (from keras->keras-tuner) (1.26.4)\n",
            "Requirement already satisfied: rich in /usr/local/lib/python3.10/dist-packages (from keras->keras-tuner) (13.7.1)\n",
            "Requirement already satisfied: namex in /usr/local/lib/python3.10/dist-packages (from keras->keras-tuner) (0.0.8)\n",
            "Requirement already satisfied: h5py in /usr/local/lib/python3.10/dist-packages (from keras->keras-tuner) (3.11.0)\n",
            "Requirement already satisfied: optree in /usr/local/lib/python3.10/dist-packages (from keras->keras-tuner) (0.12.1)\n",
            "Requirement already satisfied: ml-dtypes in /usr/local/lib/python3.10/dist-packages (from keras->keras-tuner) (0.4.0)\n",
            "Requirement already satisfied: charset-normalizer<4,>=2 in /usr/local/lib/python3.10/dist-packages (from requests->keras-tuner) (3.3.2)\n",
            "Requirement already satisfied: idna<4,>=2.5 in /usr/local/lib/python3.10/dist-packages (from requests->keras-tuner) (3.7)\n",
            "Requirement already satisfied: urllib3<3,>=1.21.1 in /usr/local/lib/python3.10/dist-packages (from requests->keras-tuner) (2.0.7)\n",
            "Requirement already satisfied: certifi>=2017.4.17 in /usr/local/lib/python3.10/dist-packages (from requests->keras-tuner) (2024.7.4)\n",
            "Requirement already satisfied: typing-extensions>=4.5.0 in /usr/local/lib/python3.10/dist-packages (from optree->keras->keras-tuner) (4.12.2)\n",
            "Requirement already satisfied: markdown-it-py>=2.2.0 in /usr/local/lib/python3.10/dist-packages (from rich->keras->keras-tuner) (3.0.0)\n",
            "Requirement already satisfied: pygments<3.0.0,>=2.13.0 in /usr/local/lib/python3.10/dist-packages (from rich->keras->keras-tuner) (2.16.1)\n",
            "Requirement already satisfied: mdurl~=0.1 in /usr/local/lib/python3.10/dist-packages (from markdown-it-py>=2.2.0->rich->keras->keras-tuner) (0.1.2)\n",
            "Downloading keras_tuner-1.4.7-py3-none-any.whl (129 kB)\n",
            "\u001b[2K   \u001b[90m━━━━━━━━━━━━━━━━━━━━━━━━━━━━━━━━━━━━━━━━\u001b[0m \u001b[32m129.1/129.1 kB\u001b[0m \u001b[31m4.2 MB/s\u001b[0m eta \u001b[36m0:00:00\u001b[0m\n",
            "\u001b[?25hDownloading kt_legacy-1.0.5-py3-none-any.whl (9.6 kB)\n",
            "Installing collected packages: kt-legacy, keras-tuner\n",
            "Successfully installed keras-tuner-1.4.7 kt-legacy-1.0.5\n"
          ]
        }
      ],
      "source": [
        "!pip install keras-tuner --upgrade"
      ]
    },
    {
      "cell_type": "code",
      "execution_count": null,
      "metadata": {
        "colab": {
          "base_uri": "https://localhost:8080/"
        },
        "id": "YMaoWoduIipd",
        "outputId": "70c36bce-efd5-4125-d273-a09df0ff259a"
      },
      "outputs": [
        {
          "output_type": "stream",
          "name": "stderr",
          "text": [
            "<ipython-input-2-5ccac7c9d001>:8: DeprecationWarning: `import kerastuner` is deprecated, please use `import keras_tuner`.\n",
            "  import kerastuner as kt\n"
          ]
        }
      ],
      "source": [
        "#import tensorflow and keras\n",
        "import tensorflow as tf\n",
        "import keras\n",
        "from keras import models, datasets\n",
        "from tensorflow.keras.preprocessing.image import ImageDataGenerator\n",
        "from keras.models import Sequential\n",
        "from keras.layers import Conv2D, MaxPooling2D, Flatten, Dense, Dropout, BatchNormalization\n",
        "import kerastuner as kt\n",
        "from keras.optimizers import Adam\n",
        "\n",
        "#import pandas and matplotlib for accurcy visualization\n",
        "import numpy as np\n",
        "import pandas as pd\n",
        "import matplotlib.pyplot as plt\n",
        "import plotly.graph_objects as go"
      ]
    },
    {
      "cell_type": "markdown",
      "metadata": {
        "id": "vVY0vMoqMiCc"
      },
      "source": [
        "## Loading Data"
      ]
    },
    {
      "cell_type": "markdown",
      "metadata": {
        "id": "lyDK-dh3QqBX"
      },
      "source": [
        "The above method truly shines when used with big images and especially multi-channel images"
      ]
    },
    {
      "cell_type": "markdown",
      "metadata": {
        "id": "evYaGKSWU0vA"
      },
      "source": [
        "**The CIFAR-100** dataset is a well-known dataset used in machine learning and computer vision for evaluating image recognition algorithms. It is a more complex and diverse dataset compared to its counterpart, CIFAR-10, primarily due to the larger number of classes.\n",
        "\n",
        "![Cifar100](https://datasets.activeloop.ai/wp-content/uploads/2022/09/CIFAR-100-dataset-Activeloop-Platform-visualization-image.webp)\n",
        "\n",
        ">- CIFAR-100 contains 60,000 32x32 color images.\n",
        ">- The images are divided into 100 classes, each containing 600 images.\n",
        ">- The 100 classes are grouped into 20 superclasses.\n",
        ">- Each superclass encompasses several classes that are more specific; for example, the \"aquatic mammals\" superclass includes classes like \"beaver\", \"dolphin\", and \"otter\"."
      ]
    },
    {
      "cell_type": "code",
      "execution_count": null,
      "metadata": {
        "colab": {
          "base_uri": "https://localhost:8080/"
        },
        "id": "U9-GLxo2Qjd5",
        "outputId": "b0ec75a8-5420-4175-8d10-52334e821d8e"
      },
      "outputs": [
        {
          "output_type": "stream",
          "name": "stdout",
          "text": [
            "Downloading data from https://www.cs.toronto.edu/~kriz/cifar-100-python.tar.gz\n",
            "\u001b[1m169001437/169001437\u001b[0m \u001b[32m━━━━━━━━━━━━━━━━━━━━\u001b[0m\u001b[37m\u001b[0m \u001b[1m9s\u001b[0m 0us/step\n"
          ]
        }
      ],
      "source": [
        "# Loading the Dataset from Keras\n",
        "cifar = datasets.cifar100\n",
        "(X_train_full, y_train_full), (X_test, y_test) = cifar.load_data(label_mode='coarse')\n",
        "\n",
        "#Spliting the training Dataset into train and validation\n",
        "X_valid, X_train = X_train_full[:4000] / 255.0, X_train_full[4000:] / 255.0\n",
        "y_valid, y_train = y_train_full[:4000], y_train_full[4000:]"
      ]
    },
    {
      "cell_type": "code",
      "execution_count": null,
      "metadata": {
        "colab": {
          "base_uri": "https://localhost:8080/",
          "height": 671
        },
        "id": "ZPX0hAPC5cjC",
        "outputId": "8ca85717-e723-4ea3-ba41-0abd95f221af"
      },
      "outputs": [
        {
          "output_type": "stream",
          "name": "stdout",
          "text": [
            "Transformed images (Before preprocessing):\n"
          ]
        },
        {
          "output_type": "display_data",
          "data": {
            "text/plain": [
              "<Figure size 800x800 with 9 Axes>"
            ],
            "image/png": "[encoded data removed]"
          },
          "metadata": {}
        }
      ],
      "source": [
        "print(\"Transformed images (Before preprocessing):\")\n",
        "plt.figure(figsize=(8, 8))\n",
        "for i in range(9):\n",
        "    plt.subplot(330 + 1 + i)\n",
        "    plt.imshow(X_train[i])\n",
        "    plt.xticks([])\n",
        "    plt.yticks([])\n",
        "plt.show()"
      ]
    },
    {
      "cell_type": "markdown",
      "metadata": {
        "id": "EKd85suIyHcs"
      },
      "source": [
        "## Image Preprocessing"
      ]
    },
    {
      "cell_type": "markdown",
      "metadata": {
        "id": "pFtaYUHlHFdP"
      },
      "source": [
        "Applying preprocessing"
      ]
    },
    {
      "cell_type": "code",
      "execution_count": null,
      "metadata": {
        "id": "tbA8gS2S8FUe"
      },
      "outputs": [],
      "source": [
        "# Define an ImageDataGenerator with normalization and data augmentation\n",
        "datagen = ImageDataGenerator(\n",
        "    rescale=1./255,  # Normalization\n",
        "    rotation_range=15,\n",
        "    width_shift_range=0.1,\n",
        "    height_shift_range=0.1,\n",
        "    horizontal_flip=True,\n",
        "    zoom_range=0.2\n",
        ")\n",
        "datagen.fit(X_train)"
      ]
    },
    {
      "cell_type": "markdown",
      "metadata": {
        "id": "iW-R33Z9IQzV"
      },
      "source": [
        "## Modeling"
      ]
    },
    {
      "cell_type": "code",
      "execution_count": null,
      "metadata": {
        "id": "LWjHzFzLIQ8e",
        "colab": {
          "base_uri": "https://localhost:8080/"
        },
        "outputId": "621bf6e7-5c53-4921-9fa0-3d65db167b29"
      },
      "outputs": [
        {
          "output_type": "stream",
          "name": "stderr",
          "text": [
            "/usr/local/lib/python3.10/dist-packages/keras/src/layers/convolutional/base_conv.py:107: UserWarning: Do not pass an `input_shape`/`input_dim` argument to a layer. When using Sequential models, prefer using an `Input(shape)` object as the first layer in the model instead.\n",
            "  super().__init__(activity_regularizer=activity_regularizer, **kwargs)\n"
          ]
        }
      ],
      "source": [
        "model = Sequential([\n",
        "    # Convolutional layer 1\n",
        "    Conv2D(32, (3, 3), padding='same', activation='relu', input_shape=(32, 32, 3)),\n",
        "    BatchNormalization(),\n",
        "    Conv2D(32, (3, 3), activation='relu'),\n",
        "    BatchNormalization(),\n",
        "    MaxPooling2D(2, 2),\n",
        "    Dropout(0.2),\n",
        "\n",
        "    # Convolutional layer 2\n",
        "    Conv2D(64, (3, 3), padding='same', activation='relu'),\n",
        "    BatchNormalization(),\n",
        "    Conv2D(64, (3, 3), activation='relu'),\n",
        "    BatchNormalization(),\n",
        "    MaxPooling2D(2, 2),\n",
        "    Dropout(0.3),\n",
        "\n",
        "    # Flattening followed by Dense layers\n",
        "    Flatten(),\n",
        "    Dense(128, activation='relu'),\n",
        "    BatchNormalization(),\n",
        "    Dropout(0.5),\n",
        "    Dense(20, activation='softmax')  # Output layer with 20 classes\n",
        "])\n",
        "\n",
        "# Compile the model\n",
        "model.compile(optimizer='adam', loss='sparse_categorical_crossentropy', metrics=['accuracy'])\n"
      ]
    },
    {
      "cell_type": "code",
      "execution_count": null,
      "metadata": {
        "colab": {
          "base_uri": "https://localhost:8080/"
        },
        "id": "8EZOnrzLIS2A",
        "outputId": "df5a7b8b-25d6-458d-cbb8-4d47031a9856"
      },
      "outputs": [
        {
          "output_type": "stream",
          "name": "stdout",
          "text": [
            "Epoch 1/10\n"
          ]
        },
        {
          "output_type": "stream",
          "name": "stderr",
          "text": [
            "/usr/local/lib/python3.10/dist-packages/keras/src/trainers/data_adapters/py_dataset_adapter.py:121: UserWarning: Your `PyDataset` class should call `super().__init__(**kwargs)` in its constructor. `**kwargs` can include `workers`, `use_multiprocessing`, `max_queue_size`. Do not pass these arguments to `fit()`, as they will be ignored.\n",
            "  self._warn_if_super_not_called()\n"
          ]
        },
        {
          "output_type": "stream",
          "name": "stdout",
          "text": [
            "719/719 - 52s - 72ms/step - accuracy: 0.2060 - loss: 2.7420 - val_accuracy: 0.0500 - val_loss: 289913.6250\n",
            "Epoch 2/10\n",
            "719/719 - 67s - 93ms/step - accuracy: 0.2949 - loss: 2.2890 - val_accuracy: 0.0622 - val_loss: 169749.4375\n",
            "Epoch 3/10\n",
            "719/719 - 32s - 44ms/step - accuracy: 0.3422 - loss: 2.1215 - val_accuracy: 0.0737 - val_loss: 139874.7656\n",
            "Epoch 4/10\n",
            "719/719 - 41s - 57ms/step - accuracy: 0.3725 - loss: 2.0244 - val_accuracy: 0.0836 - val_loss: 130945.4844\n",
            "Epoch 5/10\n",
            "719/719 - 42s - 58ms/step - accuracy: 0.3945 - loss: 1.9428 - val_accuracy: 0.0803 - val_loss: 178533.9844\n",
            "Epoch 6/10\n",
            "719/719 - 32s - 44ms/step - accuracy: 0.4162 - loss: 1.8734 - val_accuracy: 0.0873 - val_loss: 114959.3594\n",
            "Epoch 7/10\n",
            "719/719 - 41s - 57ms/step - accuracy: 0.4282 - loss: 1.8260 - val_accuracy: 0.0914 - val_loss: 112624.1406\n",
            "Epoch 8/10\n",
            "719/719 - 42s - 58ms/step - accuracy: 0.4418 - loss: 1.7829 - val_accuracy: 0.0855 - val_loss: 174333.6719\n",
            "Epoch 9/10\n",
            "719/719 - 41s - 57ms/step - accuracy: 0.4557 - loss: 1.7467 - val_accuracy: 0.0754 - val_loss: 172509.8438\n",
            "Epoch 10/10\n",
            "719/719 - 31s - 43ms/step - accuracy: 0.4653 - loss: 1.7171 - val_accuracy: 0.0780 - val_loss: 141968.0625\n"
          ]
        }
      ],
      "source": [
        "# Train with data augmentation\n",
        "history = model.fit(datagen.flow(X_train, y_train, batch_size=64),\n",
        "                    batch_size=2000,\n",
        "                    epochs=10,\n",
        "                    validation_data=(X_test, y_test),\n",
        "                    verbose=2)"
      ]
    },
    {
      "cell_type": "markdown",
      "metadata": {
        "id": "cPqfH_aJJW8g"
      },
      "source": [
        "## Data Augmentation Finetuning"
      ]
    },
    {
      "cell_type": "markdown",
      "metadata": {
        "id": "t3auDn3GKBey"
      },
      "source": [
        "Defines the model that will be used for the search effort(make the model simple since searching a space of paramters is already time consuming)"
      ]
    },
    {
      "cell_type": "code",
      "execution_count": null,
      "metadata": {
        "id": "WWJRL3haLHxb"
      },
      "outputs": [],
      "source": [
        "def model_builder(hp):\n",
        "    model = Sequential([\n",
        "        Conv2D(32, (3, 3), activation='relu', input_shape=(32, 32, 3)),\n",
        "        MaxPooling2D(),\n",
        "        Flatten(),\n",
        "        Dense(20, activation='softmax')\n",
        "    ])\n",
        "    model.compile(optimizer=Adam(),\n",
        "                  loss='sparse_categorical_crossentropy',\n",
        "                  metrics=['accuracy'])\n",
        "\n",
        "    return model"
      ]
    },
    {
      "cell_type": "markdown",
      "metadata": {
        "id": "SzOewM3NJ3UE"
      },
      "source": [
        "Build your ImageDataGenerator and define your search ranges"
      ]
    },
    {
      "cell_type": "code",
      "execution_count": null,
      "metadata": {
        "id": "hnZPN6cxJ3bN"
      },
      "outputs": [],
      "source": [
        "def build_datagen(hp):\n",
        "    return ImageDataGenerator(\n",
        "        rotation_range=hp.Int('rotation_range', min_value=0, max_value=90, step=10),\n",
        "        width_shift_range=hp.Float('width_shift_range', min_value=0.0, max_value=0.3, step=0.05),\n",
        "        height_shift_range=hp.Float('height_shift_range', min_value=0.0, max_value=0.3, step=0.05),\n",
        "        zoom_range=hp.Float('zoom_range', min_value=0.0, max_value=0.3, step=0.05),\n",
        "        horizontal_flip=hp.Boolean('horizontal_flip'),\n",
        "        rescale=1./255\n",
        "    )"
      ]
    },
    {
      "cell_type": "code",
      "execution_count": null,
      "metadata": {
        "id": "DdjmGeUlJ3rI"
      },
      "outputs": [],
      "source": [
        "def train_test_model(hp):\n",
        "    datagen = build_datagen(hp)\n",
        "    datagen.fit(X_train)\n",
        "    model = model_builder(hp)\n",
        "    model.fit(datagen.flow(X_train, y_train, batch_size=64),\n",
        "                     validation_data=(X_test / 255.0, y_test),\n",
        "                     epochs=10, verbose=0)\n",
        "    return model"
      ]
    },
    {
      "cell_type": "markdown",
      "metadata": {
        "id": "ibuNlGYaJ3zS"
      },
      "source": [
        "**Random search** is a technique used in hyperparameter optimization where different combinations of hyperparameters are tested in a stochastic manner, rather than systematically. This method involves defining a range or a distribution for each hyperparameter and then randomly selecting values from these definitions to evaluate the performance of a model.\n",
        "\n",
        "### Key Features of Random Search:\n",
        "- **Simplicity**: It is straightforward to implement as it randomly samples hyperparameters from a specified range or distribution.\n",
        "- **Efficiency**: Random search can be more effective than grid search, especially when dealing with high-dimensional space, because it does not require a complete exploration of all combinations. This can lead to finding good hyperparameters faster because it doesn't waste time evaluating unpromising regions of the hyperparameter space.\n",
        "- **Scalability**: It scales well with the complexity of the problem as increasing the number of hyperparameters does not exponentially increase the search effort, unlike grid search."
      ]
    },
    {
      "cell_type": "code",
      "execution_count": null,
      "metadata": {
        "id": "fy3P_lMQJ370"
      },
      "outputs": [],
      "source": [
        "tuner = kt.RandomSearch(\n",
        "    train_test_model,\n",
        "    objective='val_accuracy',\n",
        "    max_trials=3,\n",
        "    executions_per_trial=3,\n",
        "    directory='auto_tune_aug',\n",
        "    project_name='augmentation_tuning'\n",
        ")"
      ]
    },
    {
      "cell_type": "code",
      "execution_count": null,
      "metadata": {
        "id": "0nyQFAEjMfiq",
        "colab": {
          "base_uri": "https://localhost:8080/"
        },
        "outputId": "05354155-b8d3-4ce7-a33f-46a64aa4d1ad"
      },
      "outputs": [
        {
          "output_type": "stream",
          "name": "stdout",
          "text": [
            "\n",
            "Search: Running Trial #1\n",
            "\n",
            "Value             |Best Value So Far |Hyperparameter\n",
            "0                 |0                 |rotation_range\n",
            "0.1               |0.1               |width_shift_range\n",
            "0.05              |0.05              |height_shift_range\n",
            "0.25              |0.25              |zoom_range\n",
            "False             |False             |horizontal_flip\n",
            "\n"
          ]
        }
      ],
      "source": [
        "tuner.search()"
      ]
    },
    {
      "cell_type": "markdown",
      "metadata": {
        "id": "aAu8RDvzMlup"
      },
      "source": [
        "**Excerise:**\n",
        "\n",
        ">- Try to manually tune the data augmentation based on your understanding\n",
        ">- Try other searching/Tuning methods within the keras tuner other than random search"
      ]
    }
  ],
  "metadata": {
    "accelerator": "GPU",
    "colab": {
      "gpuType": "T4",
      "provenance": []
    },
    "kernelspec": {
      "display_name": "Python 3",
      "name": "python3"
    },
    "language_info": {
      "codemirror_mode": {
        "name": "ipython",
        "version": 3
      },
      "file_extension": ".py",
      "mimetype": "text/x-python",
      "name": "python",
      "nbconvert_exporter": "python",
      "pygments_lexer": "ipython3",
      "version": "3.12.4"
    }
  },
  "nbformat": 4,
  "nbformat_minor": 0
}